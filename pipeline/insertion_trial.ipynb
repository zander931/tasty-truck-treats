{
 "cells": [
  {
   "cell_type": "markdown",
   "metadata": {},
   "source": [
    "# Inserting to the MySQL database example"
   ]
  },
  {
   "cell_type": "code",
   "execution_count": 10,
   "metadata": {},
   "outputs": [],
   "source": [
    "import pymysql.cursors\n",
    "from pymysql.cursors import DictCursor\n",
    "from datetime import datetime\n",
    "from os import environ as ENV\n",
    "from dotenv import load_dotenv"
   ]
  },
  {
   "cell_type": "markdown",
   "metadata": {},
   "source": [
    "## Connect to the database"
   ]
  },
  {
   "cell_type": "code",
   "execution_count": 4,
   "metadata": {},
   "outputs": [
    {
     "data": {
      "text/plain": [
       "True"
      ]
     },
     "execution_count": 4,
     "metadata": {},
     "output_type": "execute_result"
    }
   ],
   "source": [
    "load_dotenv()"
   ]
  },
  {
   "cell_type": "code",
   "execution_count": 20,
   "metadata": {},
   "outputs": [],
   "source": [
    "conn = pymysql.connect(host=ENV['DB_HOST'],\n",
    "               user=ENV['DB_USER'],\n",
    "               password=ENV['DB_PASSWORD'],\n",
    "               database=ENV['DB_NAME'],\n",
    "               port=int(ENV['DB_PORT']),\n",
    "               cursorclass=DictCursor)"
   ]
  },
  {
   "cell_type": "code",
   "execution_count": 18,
   "metadata": {},
   "outputs": [],
   "source": [
    "datetime_obj = datetime.strptime(\"2025-01-13 09:21:00\", \"%Y-%m-%d %H:%M:%S\")\n",
    "with conn:\n",
    "    with conn.cursor() as cur:\n",
    "        query = \"\"\"\n",
    "            INSERT INTO FACT_Transaction \n",
    "                (transaction_id,\n",
    "                truck_id,\n",
    "                payment_method_id,\n",
    "                total,\n",
    "                at)\n",
    "            VALUES \n",
    "                (%s, %s, %s, %s, %s);\n",
    "        \"\"\"\n",
    "        cur.execute(query, (2, 4, 1, 10.7, datetime_obj))\n",
    "    conn.commit()"
   ]
  },
  {
   "cell_type": "code",
   "execution_count": 21,
   "metadata": {},
   "outputs": [
    {
     "name": "stdout",
     "output_type": "stream",
     "text": [
      "{'transaction_id': 2, 'truck_id': 4, 'truck_name': \"Hartmann's Jellied Eels\", 'total': Decimal('10.70'), 'payment_method': 'cash', 'at': datetime.datetime(2025, 1, 13, 9, 21)}\n"
     ]
    }
   ],
   "source": [
    "with conn:\n",
    "    with conn.cursor() as cur:\n",
    "        query = \"SELECT * FROM transaction_info ORDER BY at ASC LIMIT 1;\"\n",
    "        cur.execute(query)\n",
    "        result = cur.fetchone()\n",
    "        print(result)"
   ]
  },
  {
   "cell_type": "code",
   "execution_count": null,
   "metadata": {},
   "outputs": [],
   "source": []
  }
 ],
 "metadata": {
  "kernelspec": {
   "display_name": ".venv",
   "language": "python",
   "name": "python3"
  },
  "language_info": {
   "codemirror_mode": {
    "name": "ipython",
    "version": 3
   },
   "file_extension": ".py",
   "mimetype": "text/x-python",
   "name": "python",
   "nbconvert_exporter": "python",
   "pygments_lexer": "ipython3",
   "version": "3.13.1"
  }
 },
 "nbformat": 4,
 "nbformat_minor": 2
}
