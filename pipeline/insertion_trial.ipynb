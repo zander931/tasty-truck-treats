{
 "cells": [
  {
   "cell_type": "markdown",
   "metadata": {},
   "source": [
    "# Inserting to the MySQL database example"
   ]
  },
  {
   "cell_type": "code",
   "execution_count": 19,
   "metadata": {},
   "outputs": [],
   "source": [
    "import pymysql.cursors\n",
    "from pymysql.cursors import DictCursor\n",
    "from datetime import date\n",
    "from decimal import Decimal\n",
    "from os import environ as ENV\n",
    "from dotenv import load_dotenv\n",
    "import json"
   ]
  },
  {
   "cell_type": "markdown",
   "metadata": {},
   "source": [
    "## Connect to the database"
   ]
  },
  {
   "cell_type": "code",
   "execution_count": 2,
   "metadata": {},
   "outputs": [
    {
     "data": {
      "text/plain": [
       "True"
      ]
     },
     "execution_count": 2,
     "metadata": {},
     "output_type": "execute_result"
    }
   ],
   "source": [
    "load_dotenv()"
   ]
  },
  {
   "cell_type": "code",
   "execution_count": 3,
   "metadata": {},
   "outputs": [],
   "source": [
    "conn = pymysql.connect(host=ENV['DB_HOST'],\n",
    "               user=ENV['DB_USER'],\n",
    "               password=ENV['DB_PASSWORD'],\n",
    "               database=ENV['DB_NAME'],\n",
    "               port=int(ENV['DB_PORT']),\n",
    "               cursorclass=DictCursor)"
   ]
  },
  {
   "cell_type": "markdown",
   "metadata": {},
   "source": [
    "## Inserting a set of values into the transaction table"
   ]
  },
  {
   "cell_type": "code",
   "execution_count": 18,
   "metadata": {},
   "outputs": [],
   "source": [
    "datetime_obj = datetime.strptime(\"2025-01-13 09:21:00\", \"%Y-%m-%d %H:%M:%S\")\n",
    "with conn:\n",
    "    with conn.cursor() as cur:\n",
    "        query = \"\"\"\n",
    "            INSERT INTO FACT_Transaction \n",
    "                (transaction_id,\n",
    "                truck_id,\n",
    "                payment_method_id,\n",
    "                total,\n",
    "                at)\n",
    "            VALUES \n",
    "                (%s, %s, %s, %s, %s);\n",
    "        \"\"\"\n",
    "        cur.execute(query, (2, 4, 1, 10.7, datetime_obj))\n",
    "    conn.commit()"
   ]
  },
  {
   "cell_type": "markdown",
   "metadata": {},
   "source": [
    "## Checking insertion and fetch"
   ]
  },
  {
   "cell_type": "code",
   "execution_count": 6,
   "metadata": {},
   "outputs": [
    {
     "name": "stdout",
     "output_type": "stream",
     "text": [
      "{'transaction_id': 1, 'truck_id': 1, 'truck_name': 'Burrito Madness', 'total': Decimal('7.00'), 'payment_method': 'card', 'at': datetime.datetime(2025, 1, 13, 9, 6)}\n",
      "{'transaction_id': 2, 'truck_id': 1, 'truck_name': 'Burrito Madness', 'total': Decimal('8.40'), 'payment_method': 'card', 'at': datetime.datetime(2025, 1, 13, 9, 11)}\n",
      "{'transaction_id': 3, 'truck_id': 1, 'truck_name': 'Burrito Madness', 'total': Decimal('7.00'), 'payment_method': 'card', 'at': datetime.datetime(2025, 1, 13, 9, 21)}\n",
      "{'transaction_id': 4, 'truck_id': 1, 'truck_name': 'Burrito Madness', 'total': Decimal('7.00'), 'payment_method': 'card', 'at': datetime.datetime(2025, 1, 13, 9, 36)}\n",
      "{'transaction_id': 5, 'truck_id': 1, 'truck_name': 'Burrito Madness', 'total': Decimal('7.00'), 'payment_method': 'card', 'at': datetime.datetime(2025, 1, 13, 9, 44)}\n",
      "{'transaction_id': 6, 'truck_id': 1, 'truck_name': 'Burrito Madness', 'total': Decimal('10.60'), 'payment_method': 'card', 'at': datetime.datetime(2025, 1, 13, 9, 59)}\n",
      "{'transaction_id': 7, 'truck_id': 1, 'truck_name': 'Burrito Madness', 'total': Decimal('10.00'), 'payment_method': 'card', 'at': datetime.datetime(2025, 1, 13, 10, 23)}\n",
      "{'transaction_id': 8, 'truck_id': 1, 'truck_name': 'Burrito Madness', 'total': Decimal('7.00'), 'payment_method': 'card', 'at': datetime.datetime(2025, 1, 13, 11, 0)}\n",
      "{'transaction_id': 9, 'truck_id': 1, 'truck_name': 'Burrito Madness', 'total': Decimal('7.00'), 'payment_method': 'card', 'at': datetime.datetime(2025, 1, 13, 11, 8)}\n",
      "{'transaction_id': 10, 'truck_id': 1, 'truck_name': 'Burrito Madness', 'total': Decimal('8.30'), 'payment_method': 'card', 'at': datetime.datetime(2025, 1, 13, 11, 15)}\n",
      "{'transaction_id': 11, 'truck_id': 1, 'truck_name': 'Burrito Madness', 'total': Decimal('7.00'), 'payment_method': 'card', 'at': datetime.datetime(2025, 1, 13, 11, 26)}\n",
      "{'transaction_id': 12, 'truck_id': 1, 'truck_name': 'Burrito Madness', 'total': Decimal('7.00'), 'payment_method': 'card', 'at': datetime.datetime(2025, 1, 13, 11, 37)}\n",
      "{'transaction_id': 13, 'truck_id': 1, 'truck_name': 'Burrito Madness', 'total': Decimal('10.70'), 'payment_method': 'card', 'at': datetime.datetime(2025, 1, 13, 11, 47)}\n",
      "{'transaction_id': 14, 'truck_id': 1, 'truck_name': 'Burrito Madness', 'total': Decimal('10.20'), 'payment_method': 'card', 'at': datetime.datetime(2025, 1, 13, 11, 49)}\n",
      "{'transaction_id': 15, 'truck_id': 1, 'truck_name': 'Burrito Madness', 'total': Decimal('7.00'), 'payment_method': 'card', 'at': datetime.datetime(2025, 1, 13, 12, 0)}\n",
      "{'transaction_id': 16, 'truck_id': 1, 'truck_name': 'Burrito Madness', 'total': Decimal('9.60'), 'payment_method': 'card', 'at': datetime.datetime(2025, 1, 13, 12, 2)}\n",
      "{'transaction_id': 17, 'truck_id': 1, 'truck_name': 'Burrito Madness', 'total': Decimal('9.10'), 'payment_method': 'card', 'at': datetime.datetime(2025, 1, 13, 12, 13)}\n",
      "{'transaction_id': 18, 'truck_id': 1, 'truck_name': 'Burrito Madness', 'total': Decimal('7.00'), 'payment_method': 'card', 'at': datetime.datetime(2025, 1, 13, 12, 14)}\n",
      "{'transaction_id': 19, 'truck_id': 1, 'truck_name': 'Burrito Madness', 'total': Decimal('7.00'), 'payment_method': 'card', 'at': datetime.datetime(2025, 1, 13, 12, 18)}\n",
      "{'transaction_id': 20, 'truck_id': 1, 'truck_name': 'Burrito Madness', 'total': Decimal('7.00'), 'payment_method': 'card', 'at': datetime.datetime(2025, 1, 13, 12, 19)}\n"
     ]
    }
   ],
   "source": [
    "with conn:\n",
    "    with conn.cursor() as cur:\n",
    "        query = \"SELECT * FROM transaction_info ORDER BY transaction_id ASC LIMIT 20;\"\n",
    "        cur.execute(query)\n",
    "        result = cur.fetchall()\n",
    "    for row in result:\n",
    "        print(row)"
   ]
  },
  {
   "cell_type": "markdown",
   "metadata": {},
   "source": [
    "## Check query output for daily_report"
   ]
  },
  {
   "cell_type": "code",
   "execution_count": 5,
   "metadata": {},
   "outputs": [],
   "source": [
    "query1 = \"\"\"\n",
    "    SELECT \n",
    "        DATE(at) date,\n",
    "        SUM(total) total\n",
    "    FROM transaction_info\n",
    "    WHERE DATE(at) = CURDATE() - INTERVAL 1 DAY;\n",
    "\"\"\"\n",
    "\n",
    "query2 = \"\"\"\n",
    "    SELECT\n",
    "        truck_id,\n",
    "        t.fsa_rating,\n",
    "        SUM(total) total,\n",
    "        COUNT(transaction_id) count,\n",
    "        ROUND(AVG(total),2) avg_amount\n",
    "    FROM transaction_info\n",
    "    JOIN DIM_Truck t USING(truck_id)\n",
    "    WHERE DATE(at) = CURDATE() - INTERVAL 1 DAY\n",
    "    GROUP BY truck_id\n",
    "    ORDER BY truck_id ASC;\n",
    "\"\"\"\n",
    "\n",
    "query3 = \"\"\"\n",
    "    SELECT\n",
    "        payment_method,\n",
    "        SUM(total) total\n",
    "    FROM transaction_info\n",
    "    WHERE DATE(at) = CURDATE() - INTERVAL 1 DAY\n",
    "    GROUP BY payment_method;\n",
    "\"\"\"\n",
    "\n",
    "query4 = \"\"\"\n",
    "    SELECT\n",
    "        truck_id,\n",
    "        payment_method,\n",
    "        SUM(total) total,\n",
    "        ROUND(AVG(total),2) avg_amount\n",
    "    FROM transaction_info\n",
    "    WHERE DATE(at) = CURDATE() - INTERVAL 1 DAY\n",
    "    GROUP BY payment_method, truck_id\n",
    "    ORDER BY truck_id ASC;\n",
    "\"\"\"\n",
    "\n",
    "queries = [query1, query2, query3, query4]\n",
    "titles = [\"total_revenue\",\n",
    "          \"revenue_by_truck\",\n",
    "          \"payment_method\",\n",
    "          \"payment_method_by_truck\"\n",
    "          ]"
   ]
  },
  {
   "cell_type": "code",
   "execution_count": 32,
   "metadata": {},
   "outputs": [
    {
     "name": "stdout",
     "output_type": "stream",
     "text": [
      "[{'date': datetime.date(2025, 1, 28), 'total': Decimal('5018.83')}]\n",
      "[{'truck_id': 1, 'fsa_rating': 4, 'total': Decimal('2439.30'), 'count': 311, 'avg_amount': Decimal('7.84')}, {'truck_id': 2, 'fsa_rating': 2, 'total': Decimal('700.60'), 'count': 86, 'avg_amount': Decimal('8.15')}, {'truck_id': 3, 'fsa_rating': 5, 'total': Decimal('443.29'), 'count': 71, 'avg_amount': Decimal('6.24')}, {'truck_id': 4, 'fsa_rating': 4, 'total': Decimal('121.63'), 'count': 37, 'avg_amount': Decimal('3.29')}, {'truck_id': 5, 'fsa_rating': 4, 'total': Decimal('388.60'), 'count': 70, 'avg_amount': Decimal('5.55')}, {'truck_id': 6, 'fsa_rating': 3, 'total': Decimal('925.41'), 'count': 160, 'avg_amount': Decimal('5.78')}]\n",
      "[{'payment_method': 'card', 'total': Decimal('2527.93')}, {'payment_method': 'cash', 'total': Decimal('2490.90')}]\n",
      "[{'truck_id': 1, 'payment_method': 'cash', 'total': Decimal('1315.80'), 'avg_amount': Decimal('7.93')}, {'truck_id': 1, 'payment_method': 'card', 'total': Decimal('1123.50'), 'avg_amount': Decimal('7.75')}, {'truck_id': 2, 'payment_method': 'cash', 'total': Decimal('42.20'), 'avg_amount': Decimal('8.44')}, {'truck_id': 2, 'payment_method': 'card', 'total': Decimal('658.40'), 'avg_amount': Decimal('8.13')}, {'truck_id': 3, 'payment_method': 'cash', 'total': Decimal('34.94'), 'avg_amount': Decimal('5.82')}, {'truck_id': 3, 'payment_method': 'card', 'total': Decimal('408.35'), 'avg_amount': Decimal('6.28')}, {'truck_id': 4, 'payment_method': 'cash', 'total': Decimal('77.75'), 'avg_amount': Decimal('3.11')}, {'truck_id': 4, 'payment_method': 'card', 'total': Decimal('43.88'), 'avg_amount': Decimal('3.66')}, {'truck_id': 5, 'payment_method': 'cash', 'total': Decimal('94.80'), 'avg_amount': Decimal('5.27')}, {'truck_id': 5, 'payment_method': 'card', 'total': Decimal('293.80'), 'avg_amount': Decimal('5.65')}, {'truck_id': 6, 'payment_method': 'cash', 'total': Decimal('925.41'), 'avg_amount': Decimal('5.78')}]\n"
     ]
    }
   ],
   "source": [
    "results = {}\n",
    "with conn.cursor() as cur:\n",
    "    for i in range(len(queries)):\n",
    "        cur.execute(queries[i])\n",
    "        result = cur.fetchall()\n",
    "        for row in result:\n",
    "            for key, val in row.items():\n",
    "                if isinstance(val, date):\n",
    "                    row[key] = val.strftime('%Y-%m-%d')\n",
    "                if isinstance(val, Decimal):\n",
    "                    row[key] = float(val)\n",
    "        results[titles[i]] = result"
   ]
  },
  {
   "cell_type": "code",
   "execution_count": 33,
   "metadata": {},
   "outputs": [
    {
     "data": {
      "text/plain": [
       "{'total_revenue': [{'date': '2025-01-28', 'total': 5018.83}],\n",
       " 'revenue_by_truck': [{'truck_id': 1,\n",
       "   'fsa_rating': 4,\n",
       "   'total': 2439.3,\n",
       "   'count': 311,\n",
       "   'avg_amount': 7.84},\n",
       "  {'truck_id': 2,\n",
       "   'fsa_rating': 2,\n",
       "   'total': 700.6,\n",
       "   'count': 86,\n",
       "   'avg_amount': 8.15},\n",
       "  {'truck_id': 3,\n",
       "   'fsa_rating': 5,\n",
       "   'total': 443.29,\n",
       "   'count': 71,\n",
       "   'avg_amount': 6.24},\n",
       "  {'truck_id': 4,\n",
       "   'fsa_rating': 4,\n",
       "   'total': 121.63,\n",
       "   'count': 37,\n",
       "   'avg_amount': 3.29},\n",
       "  {'truck_id': 5,\n",
       "   'fsa_rating': 4,\n",
       "   'total': 388.6,\n",
       "   'count': 70,\n",
       "   'avg_amount': 5.55},\n",
       "  {'truck_id': 6,\n",
       "   'fsa_rating': 3,\n",
       "   'total': 925.41,\n",
       "   'count': 160,\n",
       "   'avg_amount': 5.78}],\n",
       " 'payment_method': [{'payment_method': 'card', 'total': 2527.93},\n",
       "  {'payment_method': 'cash', 'total': 2490.9}],\n",
       " 'payment_method_by_truck': [{'truck_id': 1,\n",
       "   'payment_method': 'cash',\n",
       "   'total': 1315.8,\n",
       "   'avg_amount': 7.93},\n",
       "  {'truck_id': 1,\n",
       "   'payment_method': 'card',\n",
       "   'total': 1123.5,\n",
       "   'avg_amount': 7.75},\n",
       "  {'truck_id': 2, 'payment_method': 'cash', 'total': 42.2, 'avg_amount': 8.44},\n",
       "  {'truck_id': 2,\n",
       "   'payment_method': 'card',\n",
       "   'total': 658.4,\n",
       "   'avg_amount': 8.13},\n",
       "  {'truck_id': 3,\n",
       "   'payment_method': 'cash',\n",
       "   'total': 34.94,\n",
       "   'avg_amount': 5.82},\n",
       "  {'truck_id': 3,\n",
       "   'payment_method': 'card',\n",
       "   'total': 408.35,\n",
       "   'avg_amount': 6.28},\n",
       "  {'truck_id': 4,\n",
       "   'payment_method': 'cash',\n",
       "   'total': 77.75,\n",
       "   'avg_amount': 3.11},\n",
       "  {'truck_id': 4,\n",
       "   'payment_method': 'card',\n",
       "   'total': 43.88,\n",
       "   'avg_amount': 3.66},\n",
       "  {'truck_id': 5, 'payment_method': 'cash', 'total': 94.8, 'avg_amount': 5.27},\n",
       "  {'truck_id': 5,\n",
       "   'payment_method': 'card',\n",
       "   'total': 293.8,\n",
       "   'avg_amount': 5.65},\n",
       "  {'truck_id': 6,\n",
       "   'payment_method': 'cash',\n",
       "   'total': 925.41,\n",
       "   'avg_amount': 5.78}]}"
      ]
     },
     "execution_count": 33,
     "metadata": {},
     "output_type": "execute_result"
    }
   ],
   "source": [
    "results"
   ]
  },
  {
   "cell_type": "code",
   "execution_count": 34,
   "metadata": {},
   "outputs": [],
   "source": [
    "with open('daily_report_data.json', 'w') as f:\n",
    "    json.dump(results, f, indent=4)"
   ]
  },
  {
   "cell_type": "code",
   "execution_count": null,
   "metadata": {},
   "outputs": [],
   "source": []
  }
 ],
 "metadata": {
  "kernelspec": {
   "display_name": ".venv",
   "language": "python",
   "name": "python3"
  },
  "language_info": {
   "codemirror_mode": {
    "name": "ipython",
    "version": 3
   },
   "file_extension": ".py",
   "mimetype": "text/x-python",
   "name": "python",
   "nbconvert_exporter": "python",
   "pygments_lexer": "ipython3",
   "version": "3.13.1"
  }
 },
 "nbformat": 4,
 "nbformat_minor": 2
}
