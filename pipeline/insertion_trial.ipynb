{
 "cells": [
  {
   "cell_type": "markdown",
   "metadata": {},
   "source": [
    "# Inserting to the MySQL database example"
   ]
  },
  {
   "cell_type": "code",
   "execution_count": 1,
   "metadata": {},
   "outputs": [],
   "source": [
    "import pymysql.cursors\n",
    "from pymysql.cursors import DictCursor\n",
    "from datetime import datetime\n",
    "from os import environ as ENV\n",
    "from dotenv import load_dotenv"
   ]
  },
  {
   "cell_type": "markdown",
   "metadata": {},
   "source": [
    "## Connect to the database"
   ]
  },
  {
   "cell_type": "code",
   "execution_count": 2,
   "metadata": {},
   "outputs": [
    {
     "data": {
      "text/plain": [
       "True"
      ]
     },
     "execution_count": 2,
     "metadata": {},
     "output_type": "execute_result"
    }
   ],
   "source": [
    "load_dotenv()"
   ]
  },
  {
   "cell_type": "code",
   "execution_count": 5,
   "metadata": {},
   "outputs": [],
   "source": [
    "conn = pymysql.connect(host=ENV['DB_HOST'],\n",
    "               user=ENV['DB_USER'],\n",
    "               password=ENV['DB_PASSWORD'],\n",
    "               database=ENV['DB_NAME'],\n",
    "               port=int(ENV['DB_PORT']),\n",
    "               cursorclass=DictCursor)"
   ]
  },
  {
   "cell_type": "markdown",
   "metadata": {},
   "source": [
    "## Inserting a set of values into the transaction table"
   ]
  },
  {
   "cell_type": "code",
   "execution_count": 18,
   "metadata": {},
   "outputs": [],
   "source": [
    "datetime_obj = datetime.strptime(\"2025-01-13 09:21:00\", \"%Y-%m-%d %H:%M:%S\")\n",
    "with conn:\n",
    "    with conn.cursor() as cur:\n",
    "        query = \"\"\"\n",
    "            INSERT INTO FACT_Transaction \n",
    "                (transaction_id,\n",
    "                truck_id,\n",
    "                payment_method_id,\n",
    "                total,\n",
    "                at)\n",
    "            VALUES \n",
    "                (%s, %s, %s, %s, %s);\n",
    "        \"\"\"\n",
    "        cur.execute(query, (2, 4, 1, 10.7, datetime_obj))\n",
    "    conn.commit()"
   ]
  },
  {
   "cell_type": "markdown",
   "metadata": {},
   "source": [
    "## Checking insertion and fetch"
   ]
  },
  {
   "cell_type": "code",
   "execution_count": 6,
   "metadata": {},
   "outputs": [
    {
     "name": "stdout",
     "output_type": "stream",
     "text": [
      "{'transaction_id': 1, 'truck_id': 1, 'truck_name': 'Burrito Madness', 'total': Decimal('7.00'), 'payment_method': 'card', 'at': datetime.datetime(2025, 1, 13, 9, 6)}\n",
      "{'transaction_id': 2, 'truck_id': 1, 'truck_name': 'Burrito Madness', 'total': Decimal('8.40'), 'payment_method': 'card', 'at': datetime.datetime(2025, 1, 13, 9, 11)}\n",
      "{'transaction_id': 3, 'truck_id': 1, 'truck_name': 'Burrito Madness', 'total': Decimal('7.00'), 'payment_method': 'card', 'at': datetime.datetime(2025, 1, 13, 9, 21)}\n",
      "{'transaction_id': 4, 'truck_id': 1, 'truck_name': 'Burrito Madness', 'total': Decimal('7.00'), 'payment_method': 'card', 'at': datetime.datetime(2025, 1, 13, 9, 36)}\n",
      "{'transaction_id': 5, 'truck_id': 1, 'truck_name': 'Burrito Madness', 'total': Decimal('7.00'), 'payment_method': 'card', 'at': datetime.datetime(2025, 1, 13, 9, 44)}\n",
      "{'transaction_id': 6, 'truck_id': 1, 'truck_name': 'Burrito Madness', 'total': Decimal('10.60'), 'payment_method': 'card', 'at': datetime.datetime(2025, 1, 13, 9, 59)}\n",
      "{'transaction_id': 7, 'truck_id': 1, 'truck_name': 'Burrito Madness', 'total': Decimal('10.00'), 'payment_method': 'card', 'at': datetime.datetime(2025, 1, 13, 10, 23)}\n",
      "{'transaction_id': 8, 'truck_id': 1, 'truck_name': 'Burrito Madness', 'total': Decimal('7.00'), 'payment_method': 'card', 'at': datetime.datetime(2025, 1, 13, 11, 0)}\n",
      "{'transaction_id': 9, 'truck_id': 1, 'truck_name': 'Burrito Madness', 'total': Decimal('7.00'), 'payment_method': 'card', 'at': datetime.datetime(2025, 1, 13, 11, 8)}\n",
      "{'transaction_id': 10, 'truck_id': 1, 'truck_name': 'Burrito Madness', 'total': Decimal('8.30'), 'payment_method': 'card', 'at': datetime.datetime(2025, 1, 13, 11, 15)}\n",
      "{'transaction_id': 11, 'truck_id': 1, 'truck_name': 'Burrito Madness', 'total': Decimal('7.00'), 'payment_method': 'card', 'at': datetime.datetime(2025, 1, 13, 11, 26)}\n",
      "{'transaction_id': 12, 'truck_id': 1, 'truck_name': 'Burrito Madness', 'total': Decimal('7.00'), 'payment_method': 'card', 'at': datetime.datetime(2025, 1, 13, 11, 37)}\n",
      "{'transaction_id': 13, 'truck_id': 1, 'truck_name': 'Burrito Madness', 'total': Decimal('10.70'), 'payment_method': 'card', 'at': datetime.datetime(2025, 1, 13, 11, 47)}\n",
      "{'transaction_id': 14, 'truck_id': 1, 'truck_name': 'Burrito Madness', 'total': Decimal('10.20'), 'payment_method': 'card', 'at': datetime.datetime(2025, 1, 13, 11, 49)}\n",
      "{'transaction_id': 15, 'truck_id': 1, 'truck_name': 'Burrito Madness', 'total': Decimal('7.00'), 'payment_method': 'card', 'at': datetime.datetime(2025, 1, 13, 12, 0)}\n",
      "{'transaction_id': 16, 'truck_id': 1, 'truck_name': 'Burrito Madness', 'total': Decimal('9.60'), 'payment_method': 'card', 'at': datetime.datetime(2025, 1, 13, 12, 2)}\n",
      "{'transaction_id': 17, 'truck_id': 1, 'truck_name': 'Burrito Madness', 'total': Decimal('9.10'), 'payment_method': 'card', 'at': datetime.datetime(2025, 1, 13, 12, 13)}\n",
      "{'transaction_id': 18, 'truck_id': 1, 'truck_name': 'Burrito Madness', 'total': Decimal('7.00'), 'payment_method': 'card', 'at': datetime.datetime(2025, 1, 13, 12, 14)}\n",
      "{'transaction_id': 19, 'truck_id': 1, 'truck_name': 'Burrito Madness', 'total': Decimal('7.00'), 'payment_method': 'card', 'at': datetime.datetime(2025, 1, 13, 12, 18)}\n",
      "{'transaction_id': 20, 'truck_id': 1, 'truck_name': 'Burrito Madness', 'total': Decimal('7.00'), 'payment_method': 'card', 'at': datetime.datetime(2025, 1, 13, 12, 19)}\n"
     ]
    }
   ],
   "source": [
    "with conn:\n",
    "    with conn.cursor() as cur:\n",
    "        query = \"SELECT * FROM transaction_info ORDER BY transaction_id ASC LIMIT 20;\"\n",
    "        cur.execute(query)\n",
    "        result = cur.fetchall()\n",
    "    for row in result:\n",
    "        print(row)"
   ]
  },
  {
   "cell_type": "code",
   "execution_count": null,
   "metadata": {},
   "outputs": [],
   "source": []
  }
 ],
 "metadata": {
  "kernelspec": {
   "display_name": ".venv",
   "language": "python",
   "name": "python3"
  },
  "language_info": {
   "codemirror_mode": {
    "name": "ipython",
    "version": 3
   },
   "file_extension": ".py",
   "mimetype": "text/x-python",
   "name": "python",
   "nbconvert_exporter": "python",
   "pygments_lexer": "ipython3",
   "version": "3.13.1"
  }
 },
 "nbformat": 4,
 "nbformat_minor": 2
}
