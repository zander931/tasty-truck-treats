{
 "cells": [
  {
   "cell_type": "markdown",
   "metadata": {},
   "source": [
    "# Inserting to the MySQL database example"
   ]
  },
  {
   "cell_type": "code",
   "execution_count": 2,
   "metadata": {},
   "outputs": [],
   "source": [
    "import pymysql.cursors\n",
    "from pymysql.cursors import DictCursor\n",
    "from datetime import date\n",
    "from decimal import Decimal\n",
    "from os import environ as ENV\n",
    "from dotenv import load_dotenv\n",
    "import pandas as pd\n",
    "import altair as alt\n",
    "import json"
   ]
  },
  {
   "cell_type": "markdown",
   "metadata": {},
   "source": [
    "## Connect to the database"
   ]
  },
  {
   "cell_type": "code",
   "execution_count": 3,
   "metadata": {},
   "outputs": [
    {
     "data": {
      "text/plain": [
       "True"
      ]
     },
     "execution_count": 3,
     "metadata": {},
     "output_type": "execute_result"
    }
   ],
   "source": [
    "load_dotenv()"
   ]
  },
  {
   "cell_type": "code",
   "execution_count": 4,
   "metadata": {},
   "outputs": [],
   "source": [
    "conn = pymysql.connect(host=ENV['DB_HOST'],\n",
    "               user=ENV['DB_USER'],\n",
    "               password=ENV['DB_PASSWORD'],\n",
    "               database=ENV['DB_NAME'],\n",
    "               port=int(ENV['DB_PORT']),\n",
    "               cursorclass=DictCursor)"
   ]
  },
  {
   "cell_type": "markdown",
   "metadata": {},
   "source": [
    "## Inserting a set of values into the transaction table"
   ]
  },
  {
   "cell_type": "code",
   "execution_count": 18,
   "metadata": {},
   "outputs": [],
   "source": [
    "datetime_obj = datetime.strptime(\"2025-01-13 09:21:00\", \"%Y-%m-%d %H:%M:%S\")\n",
    "with conn:\n",
    "    with conn.cursor() as cur:\n",
    "        query = \"\"\"\n",
    "            INSERT INTO FACT_Transaction \n",
    "                (transaction_id,\n",
    "                truck_id,\n",
    "                payment_method_id,\n",
    "                total,\n",
    "                at)\n",
    "            VALUES \n",
    "                (%s, %s, %s, %s, %s);\n",
    "        \"\"\"\n",
    "        cur.execute(query, (2, 4, 1, 10.7, datetime_obj))\n",
    "    conn.commit()"
   ]
  },
  {
   "cell_type": "markdown",
   "metadata": {},
   "source": [
    "## Checking insertion and fetch"
   ]
  },
  {
   "cell_type": "code",
   "execution_count": 6,
   "metadata": {},
   "outputs": [
    {
     "name": "stdout",
     "output_type": "stream",
     "text": [
      "{'transaction_id': 1, 'truck_id': 1, 'truck_name': 'Burrito Madness', 'total': Decimal('7.00'), 'payment_method': 'card', 'at': datetime.datetime(2025, 1, 13, 9, 6)}\n",
      "{'transaction_id': 2, 'truck_id': 1, 'truck_name': 'Burrito Madness', 'total': Decimal('8.40'), 'payment_method': 'card', 'at': datetime.datetime(2025, 1, 13, 9, 11)}\n",
      "{'transaction_id': 3, 'truck_id': 1, 'truck_name': 'Burrito Madness', 'total': Decimal('7.00'), 'payment_method': 'card', 'at': datetime.datetime(2025, 1, 13, 9, 21)}\n",
      "{'transaction_id': 4, 'truck_id': 1, 'truck_name': 'Burrito Madness', 'total': Decimal('7.00'), 'payment_method': 'card', 'at': datetime.datetime(2025, 1, 13, 9, 36)}\n",
      "{'transaction_id': 5, 'truck_id': 1, 'truck_name': 'Burrito Madness', 'total': Decimal('7.00'), 'payment_method': 'card', 'at': datetime.datetime(2025, 1, 13, 9, 44)}\n",
      "{'transaction_id': 6, 'truck_id': 1, 'truck_name': 'Burrito Madness', 'total': Decimal('10.60'), 'payment_method': 'card', 'at': datetime.datetime(2025, 1, 13, 9, 59)}\n",
      "{'transaction_id': 7, 'truck_id': 1, 'truck_name': 'Burrito Madness', 'total': Decimal('10.00'), 'payment_method': 'card', 'at': datetime.datetime(2025, 1, 13, 10, 23)}\n",
      "{'transaction_id': 8, 'truck_id': 1, 'truck_name': 'Burrito Madness', 'total': Decimal('7.00'), 'payment_method': 'card', 'at': datetime.datetime(2025, 1, 13, 11, 0)}\n",
      "{'transaction_id': 9, 'truck_id': 1, 'truck_name': 'Burrito Madness', 'total': Decimal('7.00'), 'payment_method': 'card', 'at': datetime.datetime(2025, 1, 13, 11, 8)}\n",
      "{'transaction_id': 10, 'truck_id': 1, 'truck_name': 'Burrito Madness', 'total': Decimal('8.30'), 'payment_method': 'card', 'at': datetime.datetime(2025, 1, 13, 11, 15)}\n",
      "{'transaction_id': 11, 'truck_id': 1, 'truck_name': 'Burrito Madness', 'total': Decimal('7.00'), 'payment_method': 'card', 'at': datetime.datetime(2025, 1, 13, 11, 26)}\n",
      "{'transaction_id': 12, 'truck_id': 1, 'truck_name': 'Burrito Madness', 'total': Decimal('7.00'), 'payment_method': 'card', 'at': datetime.datetime(2025, 1, 13, 11, 37)}\n",
      "{'transaction_id': 13, 'truck_id': 1, 'truck_name': 'Burrito Madness', 'total': Decimal('10.70'), 'payment_method': 'card', 'at': datetime.datetime(2025, 1, 13, 11, 47)}\n",
      "{'transaction_id': 14, 'truck_id': 1, 'truck_name': 'Burrito Madness', 'total': Decimal('10.20'), 'payment_method': 'card', 'at': datetime.datetime(2025, 1, 13, 11, 49)}\n",
      "{'transaction_id': 15, 'truck_id': 1, 'truck_name': 'Burrito Madness', 'total': Decimal('7.00'), 'payment_method': 'card', 'at': datetime.datetime(2025, 1, 13, 12, 0)}\n",
      "{'transaction_id': 16, 'truck_id': 1, 'truck_name': 'Burrito Madness', 'total': Decimal('9.60'), 'payment_method': 'card', 'at': datetime.datetime(2025, 1, 13, 12, 2)}\n",
      "{'transaction_id': 17, 'truck_id': 1, 'truck_name': 'Burrito Madness', 'total': Decimal('9.10'), 'payment_method': 'card', 'at': datetime.datetime(2025, 1, 13, 12, 13)}\n",
      "{'transaction_id': 18, 'truck_id': 1, 'truck_name': 'Burrito Madness', 'total': Decimal('7.00'), 'payment_method': 'card', 'at': datetime.datetime(2025, 1, 13, 12, 14)}\n",
      "{'transaction_id': 19, 'truck_id': 1, 'truck_name': 'Burrito Madness', 'total': Decimal('7.00'), 'payment_method': 'card', 'at': datetime.datetime(2025, 1, 13, 12, 18)}\n",
      "{'transaction_id': 20, 'truck_id': 1, 'truck_name': 'Burrito Madness', 'total': Decimal('7.00'), 'payment_method': 'card', 'at': datetime.datetime(2025, 1, 13, 12, 19)}\n"
     ]
    }
   ],
   "source": [
    "with conn:\n",
    "    with conn.cursor() as cur:\n",
    "        query = \"SELECT * FROM transaction_info ORDER BY transaction_id ASC LIMIT 20;\"\n",
    "        cur.execute(query)\n",
    "        result = cur.fetchall()\n",
    "    for row in result:\n",
    "        print(row)"
   ]
  },
  {
   "cell_type": "markdown",
   "metadata": {},
   "source": [
    "## Check query output for daily_report"
   ]
  },
  {
   "cell_type": "code",
   "execution_count": 5,
   "metadata": {},
   "outputs": [],
   "source": [
    "query1 = \"\"\"\n",
    "    SELECT \n",
    "        DATE(at) date,\n",
    "        SUM(total) total\n",
    "    FROM transaction_info\n",
    "    WHERE DATE(at) = CURDATE() - INTERVAL 1 DAY;\n",
    "\"\"\"\n",
    "\n",
    "query2 = \"\"\"\n",
    "    SELECT\n",
    "        t.truck_name,\n",
    "        t.fsa_rating,\n",
    "        SUM(total) total,\n",
    "        COUNT(transaction_id) count,\n",
    "        ROUND(AVG(total),2) avg_amount\n",
    "    FROM transaction_info\n",
    "    JOIN DIM_Truck t USING(truck_id)\n",
    "    WHERE DATE(at) = CURDATE() - INTERVAL 1 DAY\n",
    "    GROUP BY truck_id\n",
    "    ORDER BY truck_id ASC;\n",
    "\"\"\"\n",
    "\n",
    "query3 = \"\"\"\n",
    "    SELECT\n",
    "        payment_method,\n",
    "        SUM(total) total\n",
    "    FROM transaction_info\n",
    "    WHERE DATE(at) = CURDATE() - INTERVAL 1 DAY\n",
    "    GROUP BY payment_method;\n",
    "\"\"\"\n",
    "\n",
    "query4 = \"\"\"\n",
    "    SELECT\n",
    "        t.truck_name,\n",
    "        payment_method,\n",
    "        SUM(total) total,\n",
    "        ROUND(AVG(total),2) avg_amount\n",
    "    FROM transaction_info\n",
    "    JOIN DIM_Truck t USING(truck_id)\n",
    "    WHERE DATE(at) = CURDATE() - INTERVAL 1 DAY\n",
    "    GROUP BY payment_method, truck_id\n",
    "    ORDER BY truck_id ASC;\n",
    "\"\"\"\n",
    "\n",
    "queries = [query1, query2, query3, query4]\n",
    "titles = [\"total_revenue\",\n",
    "          \"revenue_by_truck\",\n",
    "          \"payment_method\",\n",
    "          \"payment_method_by_truck\"\n",
    "          ]"
   ]
  },
  {
   "cell_type": "code",
   "execution_count": 6,
   "metadata": {},
   "outputs": [],
   "source": [
    "results = {}\n",
    "with conn.cursor() as cur:\n",
    "    for i in range(len(queries)):\n",
    "        cur.execute(queries[i])\n",
    "        result = cur.fetchall()\n",
    "        for row in result:\n",
    "            for key, val in row.items():\n",
    "                if isinstance(val, date):\n",
    "                    row[key] = val.strftime('%Y-%m-%d')\n",
    "                if isinstance(val, Decimal):\n",
    "                    row[key] = float(val)\n",
    "        results[titles[i]] = result"
   ]
  },
  {
   "cell_type": "code",
   "execution_count": 13,
   "metadata": {},
   "outputs": [
    {
     "data": {
      "text/plain": [
       "[{'truck_name': 'Burrito Madness',\n",
       "  'payment_method': 'card',\n",
       "  'total': 642.8,\n",
       "  'avg_amount': 7.56},\n",
       " {'truck_name': 'Burrito Madness',\n",
       "  'payment_method': 'cash',\n",
       "  'total': 117.3,\n",
       "  'avg_amount': 7.33},\n",
       " {'truck_name': 'Kings of Kebabs',\n",
       "  'payment_method': 'card',\n",
       "  'total': 253.7,\n",
       "  'avg_amount': 8.18},\n",
       " {'truck_name': 'Kings of Kebabs',\n",
       "  'payment_method': 'cash',\n",
       "  'total': 637.4,\n",
       "  'avg_amount': 7.87},\n",
       " {'truck_name': 'Cupcakes by Michelle',\n",
       "  'payment_method': 'card',\n",
       "  'total': 502.19,\n",
       "  'avg_amount': 6.2},\n",
       " {'truck_name': 'Cupcakes by Michelle',\n",
       "  'payment_method': 'cash',\n",
       "  'total': 47.92,\n",
       "  'avg_amount': 5.99},\n",
       " {'truck_name': \"Hartmann's Jellied Eels\",\n",
       "  'payment_method': 'card',\n",
       "  'total': 34.85,\n",
       "  'avg_amount': 2.32},\n",
       " {'truck_name': \"Hartmann's Jellied Eels\",\n",
       "  'payment_method': 'cash',\n",
       "  'total': 50.77,\n",
       "  'avg_amount': 2.21},\n",
       " {'truck_name': 'Yoghurt Heaven',\n",
       "  'payment_method': 'card',\n",
       "  'total': 492.1,\n",
       "  'avg_amount': 5.47},\n",
       " {'truck_name': 'Yoghurt Heaven',\n",
       "  'payment_method': 'cash',\n",
       "  'total': 34.5,\n",
       "  'avg_amount': 5.75},\n",
       " {'truck_name': 'SuperSmoothie',\n",
       "  'payment_method': 'cash',\n",
       "  'total': 164.72,\n",
       "  'avg_amount': 5.88}]"
      ]
     },
     "execution_count": 13,
     "metadata": {},
     "output_type": "execute_result"
    }
   ],
   "source": [
    "results['payment_method_by_truck']"
   ]
  },
  {
   "cell_type": "code",
   "execution_count": 34,
   "metadata": {},
   "outputs": [],
   "source": [
    "with open('daily_report_data.json', 'w') as f:\n",
    "    json.dump(results, f, indent=4)"
   ]
  },
  {
   "cell_type": "code",
   "execution_count": 12,
   "metadata": {},
   "outputs": [
    {
     "data": {
      "text/html": [
       "\n",
       "<style>\n",
       "  #altair-viz-bdd215d024af43a29bf17b35706d8398.vega-embed {\n",
       "    width: 100%;\n",
       "    display: flex;\n",
       "  }\n",
       "\n",
       "  #altair-viz-bdd215d024af43a29bf17b35706d8398.vega-embed details,\n",
       "  #altair-viz-bdd215d024af43a29bf17b35706d8398.vega-embed details summary {\n",
       "    position: relative;\n",
       "  }\n",
       "</style>\n",
       "<div id=\"altair-viz-bdd215d024af43a29bf17b35706d8398\"></div>\n",
       "<script type=\"text/javascript\">\n",
       "  var VEGA_DEBUG = (typeof VEGA_DEBUG == \"undefined\") ? {} : VEGA_DEBUG;\n",
       "  (function(spec, embedOpt){\n",
       "    let outputDiv = document.currentScript.previousElementSibling;\n",
       "    if (outputDiv.id !== \"altair-viz-bdd215d024af43a29bf17b35706d8398\") {\n",
       "      outputDiv = document.getElementById(\"altair-viz-bdd215d024af43a29bf17b35706d8398\");\n",
       "    }\n",
       "\n",
       "    const paths = {\n",
       "      \"vega\": \"https://cdn.jsdelivr.net/npm/vega@5?noext\",\n",
       "      \"vega-lib\": \"https://cdn.jsdelivr.net/npm/vega-lib?noext\",\n",
       "      \"vega-lite\": \"https://cdn.jsdelivr.net/npm/vega-lite@5.20.1?noext\",\n",
       "      \"vega-embed\": \"https://cdn.jsdelivr.net/npm/vega-embed@6?noext\",\n",
       "    };\n",
       "\n",
       "    function maybeLoadScript(lib, version) {\n",
       "      var key = `${lib.replace(\"-\", \"\")}_version`;\n",
       "      return (VEGA_DEBUG[key] == version) ?\n",
       "        Promise.resolve(paths[lib]) :\n",
       "        new Promise(function(resolve, reject) {\n",
       "          var s = document.createElement('script');\n",
       "          document.getElementsByTagName(\"head\")[0].appendChild(s);\n",
       "          s.async = true;\n",
       "          s.onload = () => {\n",
       "            VEGA_DEBUG[key] = version;\n",
       "            return resolve(paths[lib]);\n",
       "          };\n",
       "          s.onerror = () => reject(`Error loading script: ${paths[lib]}`);\n",
       "          s.src = paths[lib];\n",
       "        });\n",
       "    }\n",
       "\n",
       "    function showError(err) {\n",
       "      outputDiv.innerHTML = `<div class=\"error\" style=\"color:red;\">${err}</div>`;\n",
       "      throw err;\n",
       "    }\n",
       "\n",
       "    function displayChart(vegaEmbed) {\n",
       "      vegaEmbed(outputDiv, spec, embedOpt)\n",
       "        .catch(err => showError(`Javascript Error: ${err.message}<br>This usually means there's a typo in your chart specification. See the javascript console for the full traceback.`));\n",
       "    }\n",
       "\n",
       "    if(typeof define === \"function\" && define.amd) {\n",
       "      requirejs.config({paths});\n",
       "      let deps = [\"vega-embed\"];\n",
       "      require(deps, displayChart, err => showError(`Error loading script: ${err.message}`));\n",
       "    } else {\n",
       "      maybeLoadScript(\"vega\", \"5\")\n",
       "        .then(() => maybeLoadScript(\"vega-lite\", \"5.20.1\"))\n",
       "        .then(() => maybeLoadScript(\"vega-embed\", \"6\"))\n",
       "        .catch(showError)\n",
       "        .then(() => displayChart(vegaEmbed));\n",
       "    }\n",
       "  })({\"config\": {\"view\": {\"continuousWidth\": 300, \"continuousHeight\": 300}}, \"data\": {\"name\": \"data-a10778b11742761327d191ac7270d84c\"}, \"mark\": {\"type\": \"bar\"}, \"encoding\": {\"color\": {\"field\": \"payment_method\", \"type\": \"nominal\"}, \"x\": {\"field\": \"truck_name\", \"title\": \"Truck Name\", \"type\": \"nominal\"}, \"y\": {\"field\": \"total\", \"title\": \"Total Amount\", \"type\": \"quantitative\"}}, \"title\": \"Total Revenue by Truck and Payment Method\", \"width\": 400, \"$schema\": \"https://vega.github.io/schema/vega-lite/v5.20.1.json\", \"datasets\": {\"data-a10778b11742761327d191ac7270d84c\": [{\"truck_name\": \"Burrito Madness\", \"payment_method\": \"card\", \"total\": 642.8, \"avg_amount\": 7.56}, {\"truck_name\": \"Burrito Madness\", \"payment_method\": \"cash\", \"total\": 117.3, \"avg_amount\": 7.33}, {\"truck_name\": \"Kings of Kebabs\", \"payment_method\": \"card\", \"total\": 253.7, \"avg_amount\": 8.18}, {\"truck_name\": \"Kings of Kebabs\", \"payment_method\": \"cash\", \"total\": 637.4, \"avg_amount\": 7.87}, {\"truck_name\": \"Cupcakes by Michelle\", \"payment_method\": \"card\", \"total\": 502.19, \"avg_amount\": 6.2}, {\"truck_name\": \"Cupcakes by Michelle\", \"payment_method\": \"cash\", \"total\": 47.92, \"avg_amount\": 5.99}, {\"truck_name\": \"Hartmann's Jellied Eels\", \"payment_method\": \"card\", \"total\": 34.85, \"avg_amount\": 2.32}, {\"truck_name\": \"Hartmann's Jellied Eels\", \"payment_method\": \"cash\", \"total\": 50.77, \"avg_amount\": 2.21}, {\"truck_name\": \"Yoghurt Heaven\", \"payment_method\": \"card\", \"total\": 492.1, \"avg_amount\": 5.47}, {\"truck_name\": \"Yoghurt Heaven\", \"payment_method\": \"cash\", \"total\": 34.5, \"avg_amount\": 5.75}, {\"truck_name\": \"SuperSmoothie\", \"payment_method\": \"cash\", \"total\": 164.72, \"avg_amount\": 5.88}]}}, {\"mode\": \"vega-lite\"});\n",
       "</script>"
      ],
      "text/plain": [
       "alt.Chart(...)"
      ]
     },
     "execution_count": 12,
     "metadata": {},
     "output_type": "execute_result"
    }
   ],
   "source": [
    "df = pd.DataFrame(results['payment_method_by_truck'])\n",
    "chart = alt.Chart(df).mark_bar().encode(\n",
    "    x=alt.X('truck_name:N', title='Truck Name'),\n",
    "    y=alt.Y('total:Q', title='Total Amount'),\n",
    "    color='payment_method:N'\n",
    ").properties(\n",
    "    title='Total Revenue by Truck and Payment Method',\n",
    "    width=400\n",
    ")\n",
    "chart"
   ]
  },
  {
   "cell_type": "code",
   "execution_count": 7,
   "metadata": {},
   "outputs": [
    {
     "data": {
      "text/html": [
       "\n",
       "<style>\n",
       "  #altair-viz-956cfeecb24b4ef4887ff18b0c72a046.vega-embed {\n",
       "    width: 100%;\n",
       "    display: flex;\n",
       "  }\n",
       "\n",
       "  #altair-viz-956cfeecb24b4ef4887ff18b0c72a046.vega-embed details,\n",
       "  #altair-viz-956cfeecb24b4ef4887ff18b0c72a046.vega-embed details summary {\n",
       "    position: relative;\n",
       "  }\n",
       "</style>\n",
       "<div id=\"altair-viz-956cfeecb24b4ef4887ff18b0c72a046\"></div>\n",
       "<script type=\"text/javascript\">\n",
       "  var VEGA_DEBUG = (typeof VEGA_DEBUG == \"undefined\") ? {} : VEGA_DEBUG;\n",
       "  (function(spec, embedOpt){\n",
       "    let outputDiv = document.currentScript.previousElementSibling;\n",
       "    if (outputDiv.id !== \"altair-viz-956cfeecb24b4ef4887ff18b0c72a046\") {\n",
       "      outputDiv = document.getElementById(\"altair-viz-956cfeecb24b4ef4887ff18b0c72a046\");\n",
       "    }\n",
       "\n",
       "    const paths = {\n",
       "      \"vega\": \"https://cdn.jsdelivr.net/npm/vega@5?noext\",\n",
       "      \"vega-lib\": \"https://cdn.jsdelivr.net/npm/vega-lib?noext\",\n",
       "      \"vega-lite\": \"https://cdn.jsdelivr.net/npm/vega-lite@5.20.1?noext\",\n",
       "      \"vega-embed\": \"https://cdn.jsdelivr.net/npm/vega-embed@6?noext\",\n",
       "    };\n",
       "\n",
       "    function maybeLoadScript(lib, version) {\n",
       "      var key = `${lib.replace(\"-\", \"\")}_version`;\n",
       "      return (VEGA_DEBUG[key] == version) ?\n",
       "        Promise.resolve(paths[lib]) :\n",
       "        new Promise(function(resolve, reject) {\n",
       "          var s = document.createElement('script');\n",
       "          document.getElementsByTagName(\"head\")[0].appendChild(s);\n",
       "          s.async = true;\n",
       "          s.onload = () => {\n",
       "            VEGA_DEBUG[key] = version;\n",
       "            return resolve(paths[lib]);\n",
       "          };\n",
       "          s.onerror = () => reject(`Error loading script: ${paths[lib]}`);\n",
       "          s.src = paths[lib];\n",
       "        });\n",
       "    }\n",
       "\n",
       "    function showError(err) {\n",
       "      outputDiv.innerHTML = `<div class=\"error\" style=\"color:red;\">${err}</div>`;\n",
       "      throw err;\n",
       "    }\n",
       "\n",
       "    function displayChart(vegaEmbed) {\n",
       "      vegaEmbed(outputDiv, spec, embedOpt)\n",
       "        .catch(err => showError(`Javascript Error: ${err.message}<br>This usually means there's a typo in your chart specification. See the javascript console for the full traceback.`));\n",
       "    }\n",
       "\n",
       "    if(typeof define === \"function\" && define.amd) {\n",
       "      requirejs.config({paths});\n",
       "      let deps = [\"vega-embed\"];\n",
       "      require(deps, displayChart, err => showError(`Error loading script: ${err.message}`));\n",
       "    } else {\n",
       "      maybeLoadScript(\"vega\", \"5\")\n",
       "        .then(() => maybeLoadScript(\"vega-lite\", \"5.20.1\"))\n",
       "        .then(() => maybeLoadScript(\"vega-embed\", \"6\"))\n",
       "        .catch(showError)\n",
       "        .then(() => displayChart(vegaEmbed));\n",
       "    }\n",
       "  })({\"config\": {\"view\": {\"continuousWidth\": 300, \"continuousHeight\": 300}}, \"data\": {\"name\": \"data-ba0a9b5fac5cb67b2104c2c6da971b3a\"}, \"mark\": {\"type\": \"arc\"}, \"encoding\": {\"color\": {\"field\": \"payment_method\", \"type\": \"nominal\"}, \"theta\": {\"field\": \"total\", \"type\": \"quantitative\"}}, \"height\": 400, \"title\": \"Payment Method Distribution\", \"width\": 400, \"$schema\": \"https://vega.github.io/schema/vega-lite/v5.20.1.json\", \"datasets\": {\"data-ba0a9b5fac5cb67b2104c2c6da971b3a\": [{\"payment_method\": \"card\", \"total\": 1925.64}, {\"payment_method\": \"cash\", \"total\": 1052.61}]}}, {\"mode\": \"vega-lite\"});\n",
       "</script>"
      ],
      "text/plain": [
       "alt.Chart(...)"
      ]
     },
     "execution_count": 7,
     "metadata": {},
     "output_type": "execute_result"
    }
   ],
   "source": [
    "df = pd.DataFrame(results['payment_method'])\n",
    "chart = alt.Chart(df).mark_arc().encode(\n",
    "    theta=alt.Theta('total:Q'),\n",
    "    color=alt.Color('payment_method')\n",
    ").properties(\n",
    "    title='Payment Method Distribution',\n",
    "    height=400,\n",
    "    width=400\n",
    ")\n",
    "chart"
   ]
  },
  {
   "cell_type": "code",
   "execution_count": null,
   "metadata": {},
   "outputs": [],
   "source": []
  }
 ],
 "metadata": {
  "kernelspec": {
   "display_name": ".venv",
   "language": "python",
   "name": "python3"
  },
  "language_info": {
   "codemirror_mode": {
    "name": "ipython",
    "version": 3
   },
   "file_extension": ".py",
   "mimetype": "text/x-python",
   "name": "python",
   "nbconvert_exporter": "python",
   "pygments_lexer": "ipython3",
   "version": "3.13.1"
  }
 },
 "nbformat": 4,
 "nbformat_minor": 2
}
