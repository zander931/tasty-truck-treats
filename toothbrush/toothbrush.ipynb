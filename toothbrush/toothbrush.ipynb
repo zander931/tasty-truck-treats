{
 "cells": [
  {
   "cell_type": "code",
   "execution_count": null,
   "metadata": {},
   "outputs": [],
   "source": [
    "!pip install boto3 s3fs pyarrow pandas\n",
    "!hash -r\n",
    "\n",
    "# Add your keys below\n",
    "import os\n",
    "os.environ['AWS_ACCESS_KEY_ID']='XXX'\n",
    "os.environ['AWS_SECRET_ACCESS_KEY']='XXX'\n",
    "os.environ['AWS_DEFAULT_REGION']='us-west-2'"
   ]
  }
 ],
 "metadata": {
  "kernelspec": {
   "display_name": "Python 3.10.2 64-bit ('3.10.2')",
   "language": "python",
   "name": "python3"
  },
  "language_info": {
   "name": "python",
   "version": "3.10.2"
  },
  "orig_nbformat": 4,
  "vscode": {
   "interpreter": {
    "hash": "c069c07c0898e8eb64a045dd39d8d3693ef39f34688df0cdc5d76f59b155c34b"
   }
  }
 },
 "nbformat": 4,
 "nbformat_minor": 2
}
