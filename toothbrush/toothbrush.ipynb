{
 "cells": [
  {
   "cell_type": "code",
   "execution_count": null,
   "metadata": {},
   "outputs": [],
   "source": [
    "!pip install boto3 s3fs pyarrow pandas\n",
    "!hash -r\n",
    "\n",
    "# Add your keys below\n",
    "import os\n",
    "os.environ['AWS_ACCESS_KEY_ID']='XXX'\n",
    "os.environ['AWS_SECRET_ACCESS_KEY']='XXX'\n",
    "os.environ['AWS_DEFAULT_REGION']='us-west-2'"
   ]
  }
 ],
 "metadata": {
  "language_info": {
   "name": "python"
  },
  "orig_nbformat": 4
 },
 "nbformat": 4,
 "nbformat_minor": 2
}
